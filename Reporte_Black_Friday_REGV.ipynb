{
  "nbformat": 4,
  "nbformat_minor": 0,
  "metadata": {
    "colab": {
      "provenance": []
    },
    "kernelspec": {
      "name": "python3",
      "display_name": "Python 3"
    },
    "language_info": {
      "name": "python"
    }
  },
  "cells": [
    {
      "cell_type": "code",
      "execution_count": 1,
      "metadata": {
        "id": "YdHJKiBC0W7_"
      },
      "outputs": [],
      "source": [
        "\"\"\"\n",
        "Black Friday – GlowBeauty\n",
        "Objetivo: leer un CSV “a mano”, calcular:\n",
        "• Nº de registros en la categoría Beauty\n",
        "• Promedio global de Total Amount\n",
        "\n",
        "\"\"\"\n",
        "\n",
        "from pathlib import Path\n",
        "from typing import Generator, Tuple\n",
        "\n",
        "CSV_PATH = Path(\n",
        "    \"/content/0.y2nvtoqglsp0.1ydeken3zmvretail_sales_dataset.csv\"\n",
        ")\n",
        "\n",
        "if not CSV_PATH.exists():\n",
        "    raise FileNotFoundError(\n",
        "        f\"No se encontró el archivo en {CSV_PATH}. \"\n",
        "        \"Verifica que esté subido a la sesión de Colab.\"\n",
        "    )\n"
      ]
    },
    {
      "cell_type": "code",
      "source": [
        "def iter_rows(path: Path) -> Generator[list[str], None, None]:\n",
        "    \"\"\"\n",
        "    Itera sobre cada línea del archivo (excepto cabecera) y\n",
        "    devuelve una lista de columnas ya limpiadas.\n",
        "\n",
        "    Args:\n",
        "        path: Ruta al archivo CSV.\n",
        "\n",
        "    Yields:\n",
        "        List[str]: columnas de la fila actual.\n",
        "    \"\"\"\n",
        "    with path.open(encoding=\"utf-8\") as file:\n",
        "        next(file)          # Saltar cabecera\n",
        "        for raw_line in file:\n",
        "            stripped = raw_line.strip()\n",
        "            if not stripped:\n",
        "                continue     # Ignorar líneas vacías\n",
        "\n",
        "            cols = [c.strip() for c in stripped.split(\",\")]\n",
        "\n",
        "            # Validación mínima (dataset original = 9 columnas)\n",
        "            if len(cols) != 9:\n",
        "                continue\n",
        "\n",
        "            yield cols\n",
        "\n",
        "\n",
        "def parse_sales(path: Path) -> Tuple[int, int, float]:\n",
        "    \"\"\"\n",
        "    Procesa el CSV completo.\n",
        "\n",
        "    Returns:\n",
        "        total_rows      – Número total de registros válidos\n",
        "        beauty_rows     – Registros con categoría 'Beauty'\n",
        "        mean_total_amt  – Promedio global de Total Amount\n",
        "    \"\"\"\n",
        "    total_rows = 0\n",
        "    beauty_rows = 0\n",
        "    sum_total_amount = 0.0\n",
        "\n",
        "    for cols in iter_rows(path):\n",
        "        category = cols[5].lower()       # Product Category\n",
        "        total_amt = float(cols[8])       # Total Amount\n",
        "\n",
        "        if category == \"beauty\":\n",
        "            beauty_rows += 1\n",
        "\n",
        "        sum_total_amount += total_amt\n",
        "        total_rows += 1\n",
        "\n",
        "    mean_total_amt = (\n",
        "        sum_total_amount / total_rows if total_rows else 0.0\n",
        "    )\n",
        "    return total_rows, beauty_rows, mean_total_amt\n"
      ],
      "metadata": {
        "id": "vPOotwh-1J7H"
      },
      "execution_count": 2,
      "outputs": []
    },
    {
      "cell_type": "code",
      "source": [
        "def print_report(total: int, beauty: int, mean_amt: float) -> None:\n",
        "    \"\"\"Imprime un informe con formato claro.\"\"\"\n",
        "    print(\"\\n\" + \"-\" * 46)\n",
        "    print(\"  Reporte Black Friday – GlowBeauty\")\n",
        "    print(\"-\" * 46)\n",
        "    print(f\"Número de registros analizados .......... {total:>7}\")\n",
        "    print(f\"Registros en la categoría «Beauty» ...... {beauty:>7}\")\n",
        "    print(\n",
        "        \"Promedio global de «Total Amount» .... \"\n",
        "        f\"${mean_amt:,.2f}\"\n",
        "    )\n",
        "    print(\"-\" * 46 + \"\\n\")\n"
      ],
      "metadata": {
        "id": "jgyjLhlt1N9c"
      },
      "execution_count": 4,
      "outputs": []
    },
    {
      "cell_type": "code",
      "source": [
        "if __name__ == \"__main__\":\n",
        "    total, beauty, mean_amt = parse_sales(CSV_PATH)\n",
        "    print_report(total, beauty, mean_amt)\n"
      ],
      "metadata": {
        "colab": {
          "base_uri": "https://localhost:8080/"
        },
        "id": "6osGR-0O1QJd",
        "outputId": "f9464ff8-ce81-4ef5-d90b-8c54f0407f38"
      },
      "execution_count": 5,
      "outputs": [
        {
          "output_type": "stream",
          "name": "stdout",
          "text": [
            "\n",
            "----------------------------------------------\n",
            "  Reporte Black Friday – GlowBeauty\n",
            "----------------------------------------------\n",
            "Número de registros analizados ..........    1000\n",
            "Registros en la categoría «Beauty» ......     307\n",
            "Promedio global de «Total Amount» .... $456.00\n",
            "----------------------------------------------\n",
            "\n"
          ]
        }
      ]
    }
  ]
}